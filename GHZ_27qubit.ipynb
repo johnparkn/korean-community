{
 "cells": [
  {
   "cell_type": "markdown",
   "id": "a868f68d",
   "metadata": {},
   "source": [
    "## IBM Quantum Spring Challenge 2023 Lab 5\n",
    "\n",
    "- Lab 5번 문제는 실제 하드웨어에서 127 qubit을 GHZ state로 만드는 문제\n",
    "- 문제의 이해를 돕기 위해 간단한 27 qubit에 대한 예제를 설명\n",
    "- 본 코드에서는 ibm_auckland 를 활용하였고 같은 구조의 다른 하드웨어(ibm_peekskil 등) 에서도 적용 가능\n"
   ]
  },
  {
   "cell_type": "markdown",
   "id": "b96eb049",
   "metadata": {},
   "source": [
    "필요 정보 import"
   ]
  },
  {
   "cell_type": "code",
   "execution_count": 21,
   "id": "754c00e4",
   "metadata": {},
   "outputs": [],
   "source": [
    "from typing import List, Optional\n",
    "from qiskit import transpile, QuantumCircuit, QuantumRegister, ClassicalRegister\n",
    "import warnings\n",
    "import sys\n",
    "if not sys.warnoptions:\n",
    "    warnings.simplefilter(\"ignore\")\n",
    "\n",
    "import math\n",
    "\n",
    "\n",
    "pi = math.pi\n",
    "\n",
    "quantum_register = QuantumRegister(27)\n",
    "classical_register = ClassicalRegister(27)"
   ]
  },
  {
   "cell_type": "code",
   "execution_count": 22,
   "id": "266b2602",
   "metadata": {},
   "outputs": [],
   "source": [
    "# Qubit의 기능을 설정\n",
    "\n",
    "def qubit_index():\n",
    "    initial_layout = [ 0, 1, 2, 3, 4, 5, 6, 7,  8, 9, 10, 11, 12, 13, 14, 15,16, 17, 18, 19, 20, 21, 22, 23, 24, 25,26 ]\n",
    "    ghz_qubits = [1, 3, 7, 8, 12, 14, 18, 19, 23, 25    ]\n",
    "    stabilizer_qubits = [0, 2, 4, 5, 6, 9, 10, 11, 13, 15, 16, 17, 20, 21, 22, 24, 26 ]\n",
    "    return initial_layout, ghz_qubits, stabilizer_qubits\n",
    "\n",
    "initial_layout, ghz_qubits, stabilizer_qubits = qubit_index()"
   ]
  },
  {
   "cell_type": "markdown",
   "id": "297823cf",
   "metadata": {},
   "source": [
    "# Exercise 1\n",
    "\n",
    "문제 : 27 qubit GHZ state 를 ibm_auckland 하드웨어를 사용해서 생성하시오\n",
    "- 실제 하드웨어에 적요될 경우 depth를 최소화하는것이 중요\n",
    "- circuit 중앙에 Hadamard gate를 가하고 Hadamard gate를 가한 qubit 을 중심으로 cx gate를 적용\n"
   ]
  },
  {
   "cell_type": "code",
   "execution_count": 23,
   "id": "82a2f7ad",
   "metadata": {},
   "outputs": [],
   "source": [
    "def generate_ghz27(quantum_register, classical_register):\n",
    "    \n",
    "    # Quantum circuit 생성\n",
    "    qc = QuantumCircuit(quantum_register, classical_register)\n",
    "\n",
    "    # 13번 Qubit에 Hadamard gate를 만듦\n",
    "    qc.h(13)\n",
    "\n",
    "    cx_g = [[13,12],\n",
    "            [13,14],\n",
    "            [12,10],\n",
    "            [10,7],\n",
    "            [7,4],\n",
    "            [4,1],\n",
    "            [1,0],\n",
    "            [1,2],\n",
    "            [7,6],\n",
    "            [12,15],\n",
    "            [15,18],\n",
    "            [18,21],\n",
    "            [21,23],\n",
    "            [23,24],\n",
    "            [18,17],\n",
    "            [14,16],\n",
    "            [16,19],\n",
    "            [19,22],\n",
    "            [22,25],\n",
    "            [25,26],\n",
    "            [19,20],\n",
    "            [14,11],\n",
    "            [11,8],\n",
    "            [8,5],\n",
    "            [5,3],\n",
    "            [8,9]]\n",
    "            \n",
    "    # 나머지 qubit에 CX gate 적용\n",
    "    for i in range(len(cx_g)):\n",
    "        qc.cx(cx_g[i][0],cx_g[i][1])\n",
    "\n",
    "    return qc\n"
   ]
  },
  {
   "cell_type": "code",
   "execution_count": 24,
   "id": "e1e886c1",
   "metadata": {},
   "outputs": [
    {
     "name": "stdout",
     "output_type": "stream",
     "text": [
      "27 qubit circuit depth :  8\n"
     ]
    }
   ],
   "source": [
    "# 결과 확인\n",
    "ghz_circuit = generate_ghz27(quantum_register, classical_register)\n",
    "print(\"27 qubit circuit depth : \",ghz_circuit.depth())"
   ]
  },
  {
   "cell_type": "markdown",
   "id": "9fe5cb34",
   "metadata": {},
   "source": [
    "# Exercise 2\n",
    "\n",
    "문제 :  stabilizer_qubitt에 해당하는 qubit의 얽힘을 풀고 GHZ state를 만드시오\n",
    "- 하드웨어상에서 실제로 연결되어 있는 qubit에 대해 cx gate를 가하는것이 중요"
   ]
  },
  {
   "cell_type": "code",
   "execution_count": 25,
   "id": "27746bb4",
   "metadata": {},
   "outputs": [],
   "source": [
    "def deentangle_qubits(quantum_register, classical_register):\n",
    "    qc = QuantumCircuit(quantum_register, classical_register)\n",
    "\n",
    "    # 연결된 qubit 간에 cx gate를 가함\n",
    "    qc.cx(1,0)\n",
    "    qc.cx(1,2)\n",
    "    qc.cx(7,4)\n",
    "    qc.cx(7,6)\n",
    "    qc.cx(12,10)\n",
    "    qc.cx(18,15)\n",
    "    qc.cx(18,17)\n",
    "    qc.cx(23,21)\n",
    "    qc.cx(23,24)\n",
    "    qc.cx(25,26)\n",
    "    qc.cx(25,22)\n",
    "    qc.cx(19,16)\n",
    "    qc.cx(19,20)\n",
    "    qc.cx(14,13)\n",
    "    qc.cx(8,9)\n",
    "    qc.cx(8,11)\n",
    "    qc.cx(3,5)\n",
    "\n",
    "    return qc"
   ]
  },
  {
   "cell_type": "code",
   "execution_count": 26,
   "id": "c4490715",
   "metadata": {},
   "outputs": [
    {
     "name": "stdout",
     "output_type": "stream",
     "text": [
      "Circuit depth :  2\n"
     ]
    }
   ],
   "source": [
    "# 결과 확인\n",
    "unentangle_circuit = deentangle_qubits(quantum_register, classical_register)\n",
    "\n",
    "print(\"Circuit depth : \", unentangle_circuit.depth())"
   ]
  },
  {
   "cell_type": "markdown",
   "id": "1c1958c0",
   "metadata": {},
   "source": [
    "Exercise 1과 2을 수행후 qubit을 측정하는 Quantim circut을 생성"
   ]
  },
  {
   "cell_type": "code",
   "execution_count": 27,
   "id": "0f0d6795",
   "metadata": {},
   "outputs": [],
   "source": [
    "# Stabilizer qubit을 측정\n",
    "def measure_stabilizers(quantum_register, classical_register, stabilizer_qubits):\n",
    "    qc = QuantumCircuit(quantum_register, classical_register)\n",
    "    qc.measure(stabilizer_qubits, stabilizer_qubits)\n",
    "\n",
    "    return qc\n",
    "stabilizer_circuit = measure_stabilizers(quantum_register, classical_register, stabilizer_qubits)\n",
    "\n",
    "# GHZ qubit을 측정\n",
    "def measure_ghz(quantum_register, classical_register, ghz_qubits):\n",
    "    qc = QuantumCircuit(quantum_register, classical_register)\n",
    "    qc.measure(ghz_qubits, ghz_qubits)\n",
    "\n",
    "    return qc\n",
    "\n",
    "measure_circuit = measure_ghz(quantum_register, classical_register, ghz_qubits)\n",
    "\n",
    "# Exercise1, 2, 측정을 수행하는 circuit을 합침\n",
    "simple_ghz = (\n",
    "    ghz_circuit.compose(unentangle_circuit)\n",
    "    .compose(stabilizer_circuit)\n",
    "    .compose(measure_circuit)\n",
    ")"
   ]
  },
  {
   "cell_type": "markdown",
   "id": "1e0f0aad",
   "metadata": {},
   "source": [
    "실제 하드웨어에 적용"
   ]
  },
  {
   "cell_type": "code",
   "execution_count": 28,
   "id": "679540e8",
   "metadata": {},
   "outputs": [],
   "source": [
    "from qiskit_ibm_provider import IBMProvider\n",
    "provider = IBMProvider()\n",
    "\n",
    "# Backend 설정\n",
    "backend = provider.get_backend(\"ibm_auckland\")\n",
    "\n",
    "# 하드웨어에 적합한 quantum circuit으로 tranpile\n",
    "qc_transpiled = transpile(simple_ghz, backend, initial_layout=initial_layout)\n",
    "\n",
    "\n",
    "# 하드웨어에서 qc_transpiled 를 연산함\n",
    "number_of_shots: int = 1024\n",
    "job = backend.run(\n",
    "    qc_transpiled,\n",
    "    shots=number_of_shots,\n",
    "    memory=True\n",
    ")\n",
    "\n",
    "# 결과를 가져옴\n",
    "data = job.result().get_memory()"
   ]
  },
  {
   "cell_type": "markdown",
   "id": "65c3bf2f",
   "metadata": {},
   "source": [
    "# Ecercise 3\n",
    "\n",
    "문제 : GHZ state를 평가할 수 있는 함수를 만드시오\n",
    "- 이상적인 결과는 모두 0 또는 모두 1인 경우\n",
    "- 이상적인 GHZ state일수록 값이 작아야함"
   ]
  },
  {
   "cell_type": "code",
   "execution_count": 29,
   "id": "82c19ed3",
   "metadata": {},
   "outputs": [],
   "source": [
    "def test_ghz(data, ghz_qubits):\n",
    "    \n",
    "    quality = []\n",
    "    \n",
    "    # 모든 shot에 대해 수행\n",
    "    for i in range(len(data)):\n",
    "        zero_num = 0\n",
    "        qubit_num = 0\n",
    "        \n",
    "        # shot에 있는 모든 qubit에 대하여\n",
    "        for j in data[i]:\n",
    "            \n",
    "            # Ghz_qubit에 해당하는 경우에만 고려\n",
    "            if qubit_num in ghz_qubits:\n",
    "                if j ==\"0\":\n",
    "                    zero_num = zero_num+1\n",
    "        \n",
    "            qubit_num = qubit_num+1\n",
    "        \n",
    "        # 0이 많이 측정된 경우\n",
    "        if zero_num > len(ghz_qubits)/2:\n",
    "            \n",
    "            # 좋은 GHZ state일수록 값이 작아야하므로 보정\n",
    "            zero_num = len(ghz_qubits)-zero_num\n",
    "        quality.append(zero_num)\n",
    "\n",
    "    # 평균, 최대, 최소에 대해 print\n",
    "    mean = sum(quality)/ len(quality)\n",
    "    print(\"max:\", max(quality))\n",
    "    print(\"min:\", min(quality))\n",
    "    print(\"mean:\", mean)\n",
    "    \n",
    "    # 평균값을 return\n",
    "    return mean\n",
    "    \n"
   ]
  },
  {
   "cell_type": "code",
   "execution_count": 30,
   "id": "5c6f6512",
   "metadata": {},
   "outputs": [
    {
     "name": "stdout",
     "output_type": "stream",
     "text": [
      "max: 5\n",
      "min: 0\n",
      "mean: 1.8271484375\n"
     ]
    },
    {
     "data": {
      "text/plain": [
       "1.8271484375"
      ]
     },
     "execution_count": 30,
     "metadata": {},
     "output_type": "execute_result"
    }
   ],
   "source": [
    "# 결과 확인\n",
    "\n",
    "test_ghz(data, ghz_qubits)"
   ]
  },
  {
   "cell_type": "code",
   "execution_count": null,
   "id": "e2db43e2",
   "metadata": {},
   "outputs": [],
   "source": []
  }
 ],
 "metadata": {
  "kernelspec": {
   "display_name": "Python 3 (ipykernel)",
   "language": "python",
   "name": "python3"
  },
  "language_info": {
   "codemirror_mode": {
    "name": "ipython",
    "version": 3
   },
   "file_extension": ".py",
   "mimetype": "text/x-python",
   "name": "python",
   "nbconvert_exporter": "python",
   "pygments_lexer": "ipython3",
   "version": "3.9.7"
  }
 },
 "nbformat": 4,
 "nbformat_minor": 5
}
